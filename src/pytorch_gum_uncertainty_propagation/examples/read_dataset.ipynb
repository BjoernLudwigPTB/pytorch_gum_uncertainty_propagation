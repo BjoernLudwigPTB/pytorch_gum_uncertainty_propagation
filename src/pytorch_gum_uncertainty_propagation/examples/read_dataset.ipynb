{
 "cells": [
  {
   "cell_type": "markdown",
   "source": [
    "# Read ZeMA dataset and preprocess data"
   ],
   "metadata": {
    "collapsed": false
   }
  },
  {
   "cell_type": "code",
   "execution_count": 1,
   "metadata": {
    "collapsed": true
   },
   "outputs": [],
   "source": [
    "import json\n",
    "\n",
    "import h5py\n",
    "import numpy as np\n",
    "from h5py import Dataset, File, Group\n",
    "from numpy import ndarray"
   ]
  },
  {
   "cell_type": "code",
   "execution_count": 2,
   "outputs": [],
   "source": [
    "def print_attrs(h5py_dataset_or_group):\n",
    "    for key in h5py_dataset_or_group.attrs:\n",
    "        print(key)\n",
    "        val = json.loads(h5py_dataset_or_group.attrs[key])\n",
    "        if isinstance(val, dict):\n",
    "            for subkey, subval in val.items():\n",
    "                print(f\"   {subkey}  : {subval}\")\n",
    "        else:\n",
    "            print(f\"   {val}\")"
   ],
   "metadata": {
    "collapsed": false
   }
  },
  {
   "cell_type": "code",
   "execution_count": 3,
   "outputs": [
    {
     "name": "stdout",
     "output_type": "stream",
     "text": [
      "Experiment\n",
      "   date  : 2021-03-29/2021-04-15\n",
      "   DUT  : Festo ESBF cylinder\n",
      "   identifier  : axis11\n",
      "   label  : Electromechanical cylinder no. 11\n",
      "Person\n",
      "   dc:author  : ['Tanja Dorst', 'Maximilian Gruber', 'Anupam Prasad Vedurmudi']\n",
      "   e-mail  : ['t.dorst@zema.de', 'maximilian.gruber@ptb.de', 'anupam.vedurmudi@ptb.de']\n",
      "   affiliation  : ['ZeMA gGmbH', 'Physikalisch-Technische Bundesanstalt', 'Physikalisch-Technische Bundesanstalt']\n",
      "Project\n",
      "   fullTitle  : Metrology for the Factory of the Future\n",
      "   acronym  : Met4FoF\n",
      "   websiteLink  : www.met4fof.eu\n",
      "   fundingSource  : European Commission (EC)\n",
      "   fundingAdministrator  : EURAMET\n",
      "   funding programme  : EMPIR\n",
      "   fundingNumber  : 17IND12\n",
      "   acknowledgementText  : This work has received funding within the project 17IND12 Met4FoF from the EMPIR program co-financed by the Participating States and from the European Union's Horizon 2020 research and innovation program. The authors want to thank Clifford Brown, Daniel Hutzschenreuter, Holger Israel, Giacomo Lanza, Björn Ludwig, and Julia Neumann fromPhysikalisch-Technische Bundesanstalt (PTB) for their helpful suggestions and support.\n",
      "Publication\n",
      "   dc:identifier  : 10.5281/zenodo.5185953\n",
      "   dc:license  : Creative Commons Attribution 4.0 International (CC-BY-4.0)\n",
      "   dc:title  : Sensor data set of one electromechanical cylinder at ZeMA testbed (ZeMA DAQ and Smart-Up Unit)\n",
      "   dc:description  : The data set was generated with two different measurement systems at the ZeMA testbed. The ZeMA DAQ unit consists of 11 sensors and the SmartUp-Unit has 13 differentsignals. A typical working cycle lasts 2.8s and consists of a forward stroke, a waiting time and a return stroke of the electromechanical cylinder. The data set does not consist of the entire working cycles. Only one second of the return stroke of every 100rd working cycle is included. The dataset consists of 4776 cycles. One row represents one second of the return stroke of one working cycle.\n",
      "   dc:subject  : ['dynamic measurement', 'measurement uncertainty', 'sensor network', 'digital sensors', 'MEMS', 'machine learning', 'European Union (EU)', 'Horizon 2020', 'EMPIR']\n",
      "   dc:SizeOrDuration  : 24 sensors, 4776 cycles and 2000 datapoints each\n",
      "   dc:type  : Dataset\n",
      "   dc:issued  : 2021-09-10\n",
      "   dc:bibliographicCitation  : T. Dorst, M. Gruber and A. P. Vedurmudi : Sensor data set of one electromechanical cylinder at ZeMA testbed (ZeMA DAQ and Smart-Up Unit), Zenodo [data set], https://doi.org/10.5281/zenodo.5185953, 2021.\n"
     ]
    }
   ],
   "source": [
    "with h5py.File(\"axis11_2kHz_ZeMA_PTB_SI.h5\", \"r\") as h5f:\n",
    "    print_attrs(h5f)"
   ],
   "metadata": {
    "collapsed": false
   }
  },
  {
   "cell_type": "code",
   "execution_count": 4,
   "outputs": [
    {
     "name": "stdout",
     "output_type": "stream",
     "text": [
      "True\n",
      "si:label\n",
      "   ['X acceleration uncertainty', 'Y acceleration uncertainty', 'Z acceleration uncertainty']\n",
      "<HDF5 dataset \"qudt:standardUncertainty\": shape (3, 1000, 4766), type \"<f8\">\n",
      "['BMA_280', 'MPU_9250']\n"
     ]
    }
   ],
   "source": [
    "with h5py.File(\"axis11_2kHz_ZeMA_PTB_SI.h5\", \"r\") as h5f:\n",
    "    my_uncertainty = h5f[\"PTB_SUU\"][\"MPU_9250\"][\"Acceleration\"][\n",
    "        \"qudt:standardUncertainty\"\n",
    "    ]\n",
    "    print(\"qudt:standardUncertainty\" in my_uncertainty.name)\n",
    "    print_attrs(my_uncertainty)\n",
    "    print(my_uncertainty)\n",
    "    print(list(h5f[\"PTB_SUU\"]))"
   ],
   "metadata": {
    "collapsed": false
   }
  },
  {
   "cell_type": "code",
   "execution_count": 5,
   "outputs": [],
   "source": [
    "def extract_data(n_samples: int, verbose: bool = False) -> ndarray:\n",
    "    extracted_data = np.empty((n_samples, 0))\n",
    "    indices = np.s_[0:5, 0]\n",
    "    with h5py.File(\"axis11_2kHz_ZeMA_PTB_SI.h5\", \"r\") as h5f:\n",
    "        daq_identifier = \"ZeMA_DAQ\"\n",
    "        if verbose:\n",
    "            print(\n",
    "                f\"\\nShow data for sensor set {daq_identifier}:\\n{'-'*(26 + len(daq_identifier))}\"\n",
    "            )\n",
    "        for quantity in conditional_first_level_element(h5f, daq_identifier):\n",
    "            if verbose:\n",
    "                print(\n",
    "                    f\"\\n    Show data for quantity {quantity}:\\n    {'-'*(24 + len(quantity))}\"\n",
    "                )\n",
    "            for dataset in hdf5_part(h5f, (daq_identifier, quantity)):\n",
    "                if verbose:\n",
    "                    print(f\"    {hdf5_part(h5f, (daq_identifier, quantity, dataset))}\")\n",
    "                if (\n",
    "                    \"qudt:standardUncertainty\"\n",
    "                    in hdf5_part(h5f, (daq_identifier, quantity, dataset)).name\n",
    "                ):\n",
    "                    if (\n",
    "                        len(hdf5_part(h5f, (daq_identifier, quantity, dataset)).shape)\n",
    "                        == 3\n",
    "                    ):\n",
    "                        for sensor in hdf5_part(\n",
    "                            h5f, (daq_identifier, quantity, dataset)\n",
    "                        ):\n",
    "                            extracted_data = append_to_extraction(\n",
    "                                extracted_data,\n",
    "                                extract_sample_from_dataset(sensor, indices),\n",
    "                            )\n",
    "                    else:\n",
    "                        extracted_data = append_to_extraction(\n",
    "                            extracted_data,\n",
    "                            extract_sample_from_dataset(\n",
    "                                hdf5_part(h5f, (daq_identifier, quantity, dataset)),\n",
    "                                indices,\n",
    "                            ),\n",
    "                        )\n",
    "    return extracted_data\n",
    "\n",
    "\n",
    "def conditional_first_level_element(hdf5_file: File, identifier: str) -> Group:\n",
    "    for sensor_set_descriptor in hdf5_file:\n",
    "        if identifier in sensor_set_descriptor:\n",
    "            return hdf5_file[sensor_set_descriptor]\n",
    "\n",
    "\n",
    "def hdf5_part(hdf5_file: File, keys: tuple[str, ...]) -> Group | Dataset:\n",
    "    part = hdf5_file\n",
    "    for key in keys:\n",
    "        part = part[key]\n",
    "    return part\n",
    "\n",
    "\n",
    "def extract_sample_from_dataset(\n",
    "    data_set: Dataset, ns_samples: tuple[int | slice]\n",
    ") -> ndarray[float]:\n",
    "    return np.expand_dims(np.array(data_set[ns_samples]), 1)\n",
    "\n",
    "\n",
    "def append_to_extraction(append_to: ndarray, appendix: ndarray) -> ndarray:\n",
    "    return np.append(append_to, appendix, axis=1)"
   ],
   "metadata": {
    "collapsed": false
   }
  },
  {
   "cell_type": "code",
   "execution_count": 6,
   "outputs": [
    {
     "name": "stdout",
     "output_type": "stream",
     "text": [
      "\n",
      "Show data for sensor set ZeMA_DAQ:\n",
      "----------------------------------\n",
      "\n",
      "    Show data for quantity Acceleration:\n",
      "    ------------------------------------\n",
      "    <HDF5 dataset \"qudt:standardUncertainty\": shape (3, 2000, 4766), type \"<f8\">\n",
      "    <HDF5 dataset \"qudt:value\": shape (3, 2000, 4766), type \"<f8\">\n",
      "\n",
      "    Show data for quantity Active_Current:\n",
      "    --------------------------------------\n",
      "    <HDF5 dataset \"qudt:standardUncertainty\": shape (2000, 4766), type \"<f8\">\n",
      "    <HDF5 dataset \"qudt:value\": shape (2000, 4766), type \"<f8\">\n",
      "\n",
      "    Show data for quantity Force:\n",
      "    -----------------------------\n",
      "    <HDF5 dataset \"qudt:standardUncertainty\": shape (2000, 4766), type \"<f8\">\n",
      "    <HDF5 dataset \"qudt:value\": shape (2000, 4766), type \"<f8\">\n",
      "\n",
      "    Show data for quantity Motor_Current:\n",
      "    -------------------------------------\n",
      "    <HDF5 dataset \"qudt:standardUncertainty\": shape (3, 2000, 4766), type \"<f8\">\n",
      "    <HDF5 dataset \"qudt:value\": shape (3, 2000, 4766), type \"<f8\">\n",
      "\n",
      "    Show data for quantity Pressure:\n",
      "    --------------------------------\n",
      "    <HDF5 dataset \"qudt:standardUncertainty\": shape (2000, 4766), type \"<f8\">\n",
      "    <HDF5 dataset \"qudt:value\": shape (2000, 4766), type \"<f8\">\n",
      "\n",
      "    Show data for quantity Sound_Pressure:\n",
      "    --------------------------------------\n",
      "    <HDF5 dataset \"qudt:standardUncertainty\": shape (2000, 4766), type \"<f8\">\n",
      "    <HDF5 dataset \"qudt:value\": shape (2000, 4766), type \"<f8\">\n",
      "\n",
      "    Show data for quantity Velocity:\n",
      "    --------------------------------\n",
      "    <HDF5 dataset \"qudt:standardUncertainty\": shape (2000, 4766), type \"<f8\">\n",
      "    <HDF5 dataset \"qudt:value\": shape (2000, 4766), type \"<f8\">\n",
      "[[2.83190307e+00 2.83190307e+00 2.83190307e+00 1.64743668e-02\n",
      "  1.24365050e-02 1.16511079e-02 2.13708300e-02 3.66123419e-02\n",
      "  1.68325082e+04 2.78848019e-05 1.20545254e+00]\n",
      " [2.83190307e+00 2.83190307e+00 2.83190307e+00 3.01910282e-02\n",
      "  1.24365050e-02 5.74690879e-02 1.12427249e-02 6.80918703e-02\n",
      "  1.68325082e+04 2.78848019e-05 2.17917358e+00]\n",
      " [2.83190307e+00 2.83190307e+00 2.83190307e+00 2.61650718e-02\n",
      "  1.24365050e-02 6.31271288e-02 4.34207110e-02 1.82414959e-02\n",
      "  1.68325082e+04 2.78848019e-05 1.92350168e+00]\n",
      " [2.83190307e+00 2.83190307e+00 2.83190307e+00 2.82367380e-02\n",
      "  1.24365050e-02 3.59956144e-02 5.92208475e-02 2.20117766e-02\n",
      "  1.68325082e+04 2.78848019e-05 2.06234912e+00]\n",
      " [2.83190307e+00 2.83190307e+00 2.83190307e+00 2.92119176e-02\n",
      "  1.24365050e-02 8.26010663e-03 4.94686133e-02 5.76812843e-02\n",
      "  1.68325082e+04 2.78848019e-05 1.97239442e+00]]\n",
      "(5, 11)\n"
     ]
    }
   ],
   "source": [
    "uncertainties = extract_data(5, verbose=True)\n",
    "print(uncertainties)\n",
    "print(uncertainties.shape)"
   ],
   "metadata": {
    "collapsed": false
   }
  }
 ],
 "metadata": {
  "kernelspec": {
   "display_name": "Python 3",
   "language": "python",
   "name": "python3"
  },
  "language_info": {
   "codemirror_mode": {
    "name": "ipython",
    "version": 2
   },
   "file_extension": ".py",
   "mimetype": "text/x-python",
   "name": "python",
   "nbconvert_exporter": "python",
   "pygments_lexer": "ipython2",
   "version": "2.7.6"
  }
 },
 "nbformat": 4,
 "nbformat_minor": 0
}
