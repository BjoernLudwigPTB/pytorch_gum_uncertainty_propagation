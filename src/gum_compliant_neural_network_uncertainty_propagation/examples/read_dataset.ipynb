{
 "cells": [
  {
   "cell_type": "code",
   "execution_count": 1,
   "metadata": {
    "collapsed": true
   },
   "outputs": [],
   "source": [
    "import json\n",
    "\n",
    "import h5py"
   ]
  },
  {
   "cell_type": "code",
   "execution_count": 2,
   "outputs": [],
   "source": [
    "def print_attrs(h5py_dataset_or_group):\n",
    "    for key in h5py_dataset_or_group.attrs:\n",
    "        print(key)\n",
    "        val = json.loads(h5py_dataset_or_group.attrs[key])\n",
    "        if isinstance(val, dict):\n",
    "            for subkey, subval in val.items():\n",
    "                print(f\"   {subkey}  : {subval}\")\n",
    "        else:\n",
    "            print(f\"   {val}\")"
   ],
   "metadata": {
    "collapsed": false
   }
  },
  {
   "cell_type": "code",
   "execution_count": 3,
   "outputs": [
    {
     "name": "stdout",
     "output_type": "stream",
     "text": [
      "Experiment\n",
      "   date  : 2021-03-29/2021-04-15\n",
      "   DUT  : Festo ESBF cylinder\n",
      "   identifier  : axis11\n",
      "   label  : Electromechanical cylinder no. 11\n",
      "Person\n",
      "   dc:author  : ['Tanja Dorst', 'Maximilian Gruber', 'Anupam Prasad Vedurmudi']\n",
      "   e-mail  : ['t.dorst@zema.de', 'maximilian.gruber@ptb.de', 'anupam.vedurmudi@ptb.de']\n",
      "   affiliation  : ['ZeMA gGmbH', 'Physikalisch-Technische Bundesanstalt', 'Physikalisch-Technische Bundesanstalt']\n",
      "Project\n",
      "   fullTitle  : Metrology for the Factory of the Future\n",
      "   acronym  : Met4FoF\n",
      "   websiteLink  : www.met4fof.eu\n",
      "   fundingSource  : European Commission (EC)\n",
      "   fundingAdministrator  : EURAMET\n",
      "   funding programme  : EMPIR\n",
      "   fundingNumber  : 17IND12\n",
      "   acknowledgementText  : This work has received funding within the project 17IND12 Met4FoF from the EMPIR program co-financed by the Participating States and from the European Union's Horizon 2020 research and innovation program. The authors want to thank Clifford Brown, Daniel Hutzschenreuter, Holger Israel, Giacomo Lanza, Björn Ludwig, and Julia Neumann fromPhysikalisch-Technische Bundesanstalt (PTB) for their helpful suggestions and support.\n",
      "Publication\n",
      "   dc:identifier  : 10.5281/zenodo.5185953\n",
      "   dc:license  : Creative Commons Attribution 4.0 International (CC-BY-4.0)\n",
      "   dc:title  : Sensor data set of one electromechanical cylinder at ZeMA testbed (ZeMA DAQ and Smart-Up Unit)\n",
      "   dc:description  : The data set was generated with two different measurement systems at the ZeMA testbed. The ZeMA DAQ unit consists of 11 sensors and the SmartUp-Unit has 13 differentsignals. A typical working cycle lasts 2.8s and consists of a forward stroke, a waiting time and a return stroke of the electromechanical cylinder. The data set does not consist of the entire working cycles. Only one second of the return stroke of every 100rd working cycle is included. The dataset consists of 4776 cycles. One row represents one second of the return stroke of one working cycle.\n",
      "   dc:subject  : ['dynamic measurement', 'measurement uncertainty', 'sensor network', 'digital sensors', 'MEMS', 'machine learning', 'European Union (EU)', 'Horizon 2020', 'EMPIR']\n",
      "   dc:SizeOrDuration  : 24 sensors, 4776 cycles and 2000 datapoints each\n",
      "   dc:type  : Dataset\n",
      "   dc:issued  : 2021-09-10\n",
      "   dc:bibliographicCitation  : T. Dorst, M. Gruber and A. P. Vedurmudi : Sensor data set of one electromechanical cylinder at ZeMA testbed (ZeMA DAQ and Smart-Up Unit), Zenodo [data set], https://doi.org/10.5281/zenodo.5185953, 2021.\n"
     ]
    }
   ],
   "source": [
    "with h5py.File(\"axis11_2kHz_ZeMA_PTB_SI.h5\", \"r\") as h5f:\n",
    "    print_attrs(h5f)"
   ],
   "metadata": {
    "collapsed": false
   }
  },
  {
   "cell_type": "code",
   "execution_count": 4,
   "outputs": [
    {
     "name": "stdout",
     "output_type": "stream",
     "text": [
      "True\n",
      "si:label\n",
      "   ['X acceleration uncertainty', 'Y acceleration uncertainty', 'Z acceleration uncertainty']\n",
      "<HDF5 dataset \"qudt:standardUncertainty\": shape (3, 1000, 4766), type \"<f8\">\n"
     ]
    }
   ],
   "source": [
    "with h5py.File(\"axis11_2kHz_ZeMA_PTB_SI.h5\", \"r\") as h5f:\n",
    "    my_uncertainty = h5f[\"PTB_SUU\"][\"BMA_280\"][\"Acceleration\"][\n",
    "        \"qudt:standardUncertainty\"\n",
    "    ]\n",
    "    print(\"qudt:standardUncertainty\" in my_uncertainty.name)\n",
    "    print_attrs(my_uncertainty)\n",
    "    print(my_uncertainty)"
   ],
   "metadata": {
    "collapsed": false
   }
  }
 ],
 "metadata": {
  "kernelspec": {
   "display_name": "Python 3",
   "language": "python",
   "name": "python3"
  },
  "language_info": {
   "codemirror_mode": {
    "name": "ipython",
    "version": 2
   },
   "file_extension": ".py",
   "mimetype": "text/x-python",
   "name": "python",
   "nbconvert_exporter": "python",
   "pygments_lexer": "ipython2",
   "version": "2.7.6"
  }
 },
 "nbformat": 4,
 "nbformat_minor": 0
}
